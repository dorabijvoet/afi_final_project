{
 "cells": [
  {
   "cell_type": "markdown",
   "metadata": {},
   "source": [
    "# Step 8: Performance Interpretability\n",
    "---\n",
    "Goal of the notebook: Implement the permutation importance method and/or\n",
    "the XPER method to identify the main drivers of the predictive performance of your model.\n",
    "Are the drivers of the performance metric (Step 8) similar to the drivers of the individual\n",
    "forecasts identified by SHAP (Step 7). \n",
    "\n",
    "\n",
    "Inputs of the notebook:\n",
    "\n",
    "Output of the notebook:\n",
    "\n",
    "\n",
    "Takeaways:\n",
    "\n",
    "Questions, thoughts and remarks:"
   ]
  },
  {
   "cell_type": "markdown",
   "metadata": {},
   "source": [
    "## Dependencies and path\n",
    "Adjust the argument in `sys.path.append` to align with your specific requirements."
   ]
  },
  {
   "cell_type": "code",
   "execution_count": 1,
   "metadata": {},
   "outputs": [],
   "source": [
    "import pandas as pd \n",
    "import numpy as np\n",
    "import os\n",
    "import sys\n",
    "\n",
    "%load_ext autoreload\n",
    "%autoreload 2\n",
    "\n",
    "os.chdir('C:/Users/dorab/OneDrive - Ecole Polytechnique/Documents/DSB - HECxX/Year 2/Algorithmic Fairness and Interpretability/afi_final_project')"
   ]
  },
  {
   "cell_type": "markdown",
   "metadata": {},
   "source": [
    "## 1. Load the data"
   ]
  },
  {
   "cell_type": "code",
   "execution_count": null,
   "metadata": {},
   "outputs": [],
   "source": [
    "df = pd.read_excel(\"data/dataproject2024.xlsx\")"
   ]
  },
  {
   "cell_type": "code",
   "execution_count": null,
   "metadata": {},
   "outputs": [],
   "source": [
    "X = df.drop([\"Default (y)\", \"Pred_default (y_hat)\", \"ID\", \"PD\", \"Group\"], axis=1)\n",
    "y = df[\"Default (y)\"]"
   ]
  }
 ],
 "metadata": {
  "kernelspec": {
   "display_name": ".venv",
   "language": "python",
   "name": "python3"
  },
  "language_info": {
   "codemirror_mode": {
    "name": "ipython",
    "version": 3
   },
   "file_extension": ".py",
   "mimetype": "text/x-python",
   "name": "python",
   "nbconvert_exporter": "python",
   "pygments_lexer": "ipython3",
   "version": "3.10.4"
  }
 },
 "nbformat": 4,
 "nbformat_minor": 2
}
